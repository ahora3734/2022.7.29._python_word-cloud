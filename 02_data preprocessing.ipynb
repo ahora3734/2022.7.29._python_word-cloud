{
 "cells": [
  {
   "cell_type": "code",
   "execution_count": null,
   "metadata": {},
   "outputs": [],
   "source": [
    "# ======= 형태소 분석을 위해 한글 분석 모듈 konlpy를 설치한다. =============\n",
    "!python -m pip install konlpy\n",
    "import konlpy \n",
    "print('KoNLPy version...:', konlpy.__version__)"
   ]
  },
  {
   "cell_type": "code",
   "execution_count": null,
   "metadata": {},
   "outputs": [],
   "source": []
  }
 ],
 "metadata": {
  "kernelspec": {
   "display_name": "Python 3.10.5 64-bit",
   "language": "python",
   "name": "python3"
  },
  "language_info": {
   "name": "python",
   "version": "3.10.5"
  },
  "orig_nbformat": 4,
  "vscode": {
   "interpreter": {
    "hash": "810068287ba1e61598a0bfdebe7e3fae69d9d81113e7e2b524c49e6470bb7173"
   }
  }
 },
 "nbformat": 4,
 "nbformat_minor": 2
}
